{
 "cells": [
  {
   "cell_type": "code",
   "execution_count": null,
   "metadata": {},
   "outputs": [],
   "source": [
    "class SecondWindow(QDialog):\n",
    "            def __init__(self):\n",
    "                super().__init__()\n",
    "                self.setWindowTitle(\"Second Window\")\n",
    "\n",
    "                layout = QVBoxLayout()\n",
    "                label = QLabel(\"How many classes would you like to sort into?\")\n",
    "                layout.addWidget(label)\n",
    "\n",
    "                button_layout = QHBoxLayout()\n",
    "                button_group = QButtonGroup()\n",
    "\n",
    "                # Create buttons for each class\n",
    "                num_classes = 10  # Change this to the desired number of classes\n",
    "                for i in range(1, num_classes + 1):\n",
    "                    button = QPushButton(str(i))\n",
    "                    button.setCheckable(True)\n",
    "                    button_group.addButton(button, i)\n",
    "                    button_layout.addWidget(button)"
   ]
  }
 ],
 "metadata": {
  "kernelspec": {
   "display_name": "Suite2pROIClassification",
   "language": "python",
   "name": "python3"
  },
  "language_info": {
   "name": "python",
   "version": "3.9.18"
  }
 },
 "nbformat": 4,
 "nbformat_minor": 2
}
